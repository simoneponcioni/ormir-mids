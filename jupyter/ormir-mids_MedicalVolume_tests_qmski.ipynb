{
 "cells": [
  {
   "cell_type": "markdown",
   "id": "455a58f1-7832-4dc5-876e-1c81b9a15577",
   "metadata": {
    "tags": []
   },
   "source": [
    "# [ORMIR-MIDS](https://ORMIR-MIDS.github.io/) MedicalVolume class tests\n",
    "[ORMIR-MIDS](https://ORMIR-MIDS.github.io/) for simple medical image data loading, manipulation and visualization. Without convertion to NIfTI format or creation of the directory structure predifined by ORMIR-MIDS.\n",
    "\n",
    "- By: [Gianluca Iori](https://github.com/gianthk), Francesco Chiumento\n",
    "- Code license: MIT\n",
    "- Narrative license: CC-BY-NC-SA"
   ]
  },
  {
   "cell_type": "markdown",
   "id": "90e8b112-2069-4e6b-8901-a54388cc9dfc",
   "metadata": {},
   "source": [
    "---\n",
    "# Aims\n",
    "\n",
    "- Demonstrate the use of the MedicalVolume class contained in [ormir-mids](https://github.com/ormir-mids/ormir-mids/tree/main) (also in [pyvoxel](https://github.com/pyvoxel/pyvoxel)) for common data handling, image manipulation and processing tasks.\n",
    "- Methods / tasks tested:\n",
    "    - [X] DCM load\n",
    "    - [X] SimpleITK conversion\n",
    "    - [X] Crop / subvolume\n",
    "    - [X] View with `napari.viewer()`\n",
    "    - [ ] `reformat`\n",
    "    - [X] Some metadata getters"
   ]
  },
  {
   "cell_type": "markdown",
   "id": "9e7a454c-b104-45f1-bb85-e34587722449",
   "metadata": {},
   "source": [
    "---"
   ]
  },
  {
   "cell_type": "markdown",
   "id": "2f864c85-b782-4e5f-ac1d-e3f4f21253fb",
   "metadata": {},
   "source": [
    "# Computational workflow"
   ]
  },
  {
   "cell_type": "markdown",
   "id": "0d006354-2a67-4e00-95c2-019316960fa4",
   "metadata": {},
   "source": [
    "- Installations:  \n",
    "    - The [`h5py`](https://docs.h5py.org/en/stable/) module is required to run this notebook\n",
    "    - For ITK tests ([Section 2](#2.-Convert-to-SimpleITK)) you will neet to install [simpleITK](https://simpleitk.org/)\n",
    "    - For ([Section 3](#3.-Visualize-with-napari)) you will need to install [napari](https://napari.org/stable/tutorials/fundamentals/installation.html#installation)"
   ]
  },
  {
   "cell_type": "markdown",
   "id": "ce8f4623-46ee-470f-8982-7daf79746cb4",
   "metadata": {},
   "source": [
    "### Imports and installation of external visualization packages"
   ]
  },
  {
   "cell_type": "code",
   "execution_count": null,
   "id": "d4b19e71",
   "metadata": {},
   "outputs": [],
   "source": [
    "# Install napari and pyqt5 for running the napari GUI in the notebook\n",
    "%pip install -U 'napari[all]'\n",
    "%pip install pyqt5"
   ]
  },
  {
   "cell_type": "code",
   "execution_count": 32,
   "id": "d40e14f6-f240-4499-b55f-8d70d5a7640f",
   "metadata": {},
   "outputs": [],
   "source": [
    "import napari\n",
    "from napari.utils import nbscreenshot\n",
    "from ormir_mids.utils.io import load_dicom"
   ]
  },
  {
   "cell_type": "markdown",
   "id": "daa2210a-9c4b-4b93-b524-4464ed10f614",
   "metadata": {},
   "source": [
    "### 1. Load dicom file to MedicalVolume object"
   ]
  },
  {
   "cell_type": "code",
   "execution_count": null,
   "id": "e42038b4-b6b3-46d9-a6a4-4e0d8a99c6e7",
   "metadata": {},
   "outputs": [],
   "source": [
    "# load dicom directory\n",
    "mv = load_dicom('../dicom/Philips_MESE_T2.dcm')"
   ]
  },
  {
   "cell_type": "markdown",
   "id": "7b8e89a3-bc67-4300-b4bf-12d7d519a66f",
   "metadata": {},
   "source": [
    "Take a look at the loaded MedicalVolume object"
   ]
  },
  {
   "cell_type": "code",
   "execution_count": null,
   "id": "e23826f9-0e84-4bbd-ae12-f88d641561c1",
   "metadata": {},
   "outputs": [],
   "source": [
    "print(f'Scanner Manufacturer: {mv.bids_header[\"Manufacturer\"]}')\n",
    "print(f'Scanner Orientation: {mv.orientation}')\n",
    "print(f'Image Type: {mv.dtype}')\n",
    "print(f'Image Shape: {mv.shape}')\n",
    "print(f'Scanner Origin: {mv.scanner_origin}')\n",
    "print(f'Scanner spacing: {mv.pixel_spacing}')"
   ]
  },
  {
   "cell_type": "markdown",
   "id": "b929145a-f76d-4350-918b-ee1afb7c6927",
   "metadata": {},
   "source": [
    "#### 1.1. Crop volume\n",
    "To create a separate subvolume you can do the following. Metadata will be sliced appropriately."
   ]
  },
  {
   "cell_type": "code",
   "execution_count": null,
   "id": "fecf821f-e9c8-45e7-8a02-b12690b5a572",
   "metadata": {},
   "outputs": [],
   "source": [
    "mv_subvolume = mv[50:90, 50:90, 30:70]\n",
    "print(f'Original Shape: {mv.shape}')\n",
    "print(f'Subvolume Shape: {mv_subvolume.shape}')\n",
    "\n",
    "viewer_cropped = napari.view_image(mv_subvolume.volume,\n",
    "                          scale=mv_subvolume.pixel_spacing)\n",
    "nbscreenshot(viewer_cropped, alt_text=\"Cropped MRI DICOM volume\")"
   ]
  },
  {
   "cell_type": "markdown",
   "id": "521b1c00-e951-4c6a-ae06-7315dd368ef5",
   "metadata": {},
   "source": [
    "### 2. Convert to SimpleITK"
   ]
  },
  {
   "cell_type": "code",
   "execution_count": null,
   "id": "75808914-f14e-415a-aba0-31141007e236",
   "metadata": {},
   "outputs": [],
   "source": [
    "mv_sitk = mv.to_sitk()\n",
    "\n",
    "print(f'Before conversion, mv is of type: {type(mv)}\\nAfter conversion, mv_itk is of type: {type(mv_itk)}')"
   ]
  },
  {
   "cell_type": "markdown",
   "id": "4d1d4831-f5f2-4e27-98cf-65104c6dd681",
   "metadata": {},
   "source": [
    "Inspect ITK image contents:"
   ]
  },
  {
   "cell_type": "code",
   "execution_count": null,
   "id": "9f372f19-c5fa-4f52-9200-621f4fb41270",
   "metadata": {},
   "outputs": [],
   "source": [
    "print(mv_sitk)"
   ]
  },
  {
   "cell_type": "markdown",
   "id": "c51972a7-2e42-47a9-88fd-bb96105d1ba2",
   "metadata": {},
   "source": [
    "### 3. Visualize with napari\n",
    "Take a look at [`napari`](https://napari.org/stable/api/napari.html)'s manual for more info.\n",
    "You can launch the napari viewer with:"
   ]
  },
  {
   "cell_type": "code",
   "execution_count": null,
   "id": "65db78a4-a523-4d23-a65d-3ddcfbb7a95c",
   "metadata": {},
   "outputs": [],
   "source": [
    "viewer = napari.view_image(mv.volume,\n",
    "                          scale=mv.pixel_spacing)\n",
    "nbscreenshot(viewer, alt_text=\"MRI DICOM data visualized with napari\")"
   ]
  },
  {
   "cell_type": "markdown",
   "id": "b1b15d88-e954-47e7-aaf3-fe5bafd293bd",
   "metadata": {},
   "source": [
    "### 4. Getter functions\n",
    "Some methods to access common metadata\n",
    "#### 4.1. Pixel spacing"
   ]
  },
  {
   "cell_type": "code",
   "execution_count": null,
   "id": "ec599200-aeaf-4554-9145-f0b4fec5ff47",
   "metadata": {},
   "outputs": [],
   "source": [
    "print(mv.pixel_spacing)"
   ]
  },
  {
   "cell_type": "markdown",
   "id": "ecd96484-564b-44d1-8375-42d14b5735c7",
   "metadata": {},
   "source": [
    "#### 4.2. Pixel format"
   ]
  },
  {
   "cell_type": "code",
   "execution_count": null,
   "id": "074c19b0-edd9-47ab-ae40-2db0c5358b17",
   "metadata": {},
   "outputs": [],
   "source": [
    "print(mv.volume.dtype)"
   ]
  },
  {
   "cell_type": "markdown",
   "id": "49ed3712-55b3-45e7-871b-0520fcc31393",
   "metadata": {},
   "source": [
    "#### 4.3. Origin"
   ]
  },
  {
   "cell_type": "code",
   "execution_count": null,
   "id": "afef1001-2cfe-40ae-965d-19251c570daf",
   "metadata": {},
   "outputs": [],
   "source": [
    "print(mv.scanner_origin)"
   ]
  },
  {
   "cell_type": "markdown",
   "id": "88f7e9a3-a7ef-4f1a-89bd-c6919ba654e0",
   "metadata": {},
   "source": [
    "#### 4.4. Orientation"
   ]
  },
  {
   "cell_type": "code",
   "execution_count": null,
   "id": "54defe0b-7c47-4fe5-9c20-e2b0e5d80a32",
   "metadata": {},
   "outputs": [],
   "source": [
    "print(mv.orientation)"
   ]
  },
  {
   "cell_type": "markdown",
   "id": "6bee03cd-ed5e-4c91-bd95-afef8d5fd65f",
   "metadata": {},
   "source": [
    "---\n",
    "# Dependencies"
   ]
  },
  {
   "cell_type": "code",
   "execution_count": null,
   "id": "0a9ecdc2-c0bd-4162-8c86-39595fbeb05b",
   "metadata": {},
   "outputs": [],
   "source": [
    "%load_ext watermark\n",
    "\n",
    "%watermark\n",
    "%watermark --iversions"
   ]
  },
  {
   "cell_type": "markdown",
   "id": "5ba37a59-29f4-46f8-a256-3c1b5e993f3d",
   "metadata": {
    "tags": []
   },
   "source": [
    "---\n",
    "<a name=\"thanks\"></a>\n",
    "# Acknowledgements\n",
    "\n",
    "- This notebook was developed within Building the workshop [Sharing and Curating Open Data in Musculoskeletal Imaging Research](https://github.com/ORMIRcommunity/2024_2nd_ORMIR_WS) organized by the [ORMIR community](https://ormircommunity.github.io/)\n",
    "- Main financial support by the [Swiss National Science Foundation (SNSF)](https://www.snf.ch/en)   \n",
    "Sponsors: [Balgrist Campus](https://www.balgristcampus.ch/), [Schulthess Klinik](https://www.schulthess-klinik.ch/en), [Zurich Tourism Office](https://www.zuerich.com/en)"
   ]
  },
  {
   "cell_type": "markdown",
   "id": "918faaa4-c140-42cd-8321-7389ce2eeba0",
   "metadata": {},
   "source": [
    "---\n",
    "<a name=\"attribution\"></a>\n",
    "\n",
    "Notebook created using the [template](https://github.com/ORMIRcommunity/templates/blob/main/ORMIR_nb_template.ipynb) of the [ORMIR community](https://ormircommunity.github.io/) (version 1.0, 2023)"
   ]
  }
 ],
 "metadata": {
  "kernelspec": {
   "display_name": "ormir-mids",
   "language": "python",
   "name": "python3"
  },
  "language_info": {
   "codemirror_mode": {
    "name": "ipython",
    "version": 3
   },
   "file_extension": ".py",
   "mimetype": "text/x-python",
   "name": "python",
   "nbconvert_exporter": "python",
   "pygments_lexer": "ipython3",
   "version": "3.12.7"
  }
 },
 "nbformat": 4,
 "nbformat_minor": 5
}
