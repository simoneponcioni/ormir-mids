{
 "cells": [
  {
   "cell_type": "markdown",
   "id": "17dd42d1",
   "metadata": {
    "id": "6cce1bbf-5964-4912-a4d1-e1203950122a"
   },
   "source": [
    "# [Ormir-mids](https://pypi.org/project/ormir-mids): dcm2mbids\n",
    "\n",
    "By: Leonardo Barzaghi, [Donnie Cameron](https://github.com/DC-3T), Judith Cueto Fernandez, Jilmen Quintiens, [Francesco Santini](https://github.com/fsantini), 2022\n",
    "\n",
    "Version 1.0  \n",
    "Code licence: GPL v3  \n",
    "Narrative licence: CC-BY\n",
    "\n",
    "How to cite:\n",
    "\n",
    "> S. Bonaretti, M. A. Espinosa Hernandez, F. Chiumento, Y. Founas, M. Froeling, J. Hirvasniemi, G. Iori, Y. Lee, S. Matuschik, M. Monzon, F. Santini, D. Cameron. ORMIR-MIDS: An open standard for curating and sharing musculoskeletal imaging data. 24th International Workshop on Quantitative Musculoskeletal Imaging (QMSKI). The Barossa Valley, South Australia. November 3-8, 2024.\n",
    "\n",
    "---\n",
    "---"
   ]
  },
  {
   "cell_type": "markdown",
   "id": "4a9c2ea7",
   "metadata": {
    "id": "dbee1a23-50eb-472d-b0ff-e23ac00eb22c"
   },
   "source": [
    "## Aims\n",
    "\n",
    "The [ormir-mids package](https://github.com/ormir-mids/ormir-mids/tree/Jupyter) converts traditional musculoskeletal data modalities in DICOM format into a structure compatible with [MIDS](https://bids.neuroimaging.io/)[<sup id=\"fn1-back\">1</sup>](#fn1). It can be run as a standalone executable or called within Python scripts as a library.\n",
    "\n",
    "In this notebook you will learn:\n",
    "\n",
    "1. How to install `ormir-mids`; and\n",
    "\n",
    "2. How to use `ormir-mids` as either an executable or as a Python module."
   ]
  },
  {
   "cell_type": "markdown",
   "id": "3a28992c",
   "metadata": {},
   "source": [
    "### Table of contents\n",
    "\n",
    "[Installation](#Installation)  \n",
    "[Usage examples](#Usage-examples)  \n",
    "[Dependencies](#Dependencies)  \n",
    "[References](#References)  \n",
    "[Acknowledgements](#Acknowledgements)\n",
    "    "
   ]
  },
  {
   "cell_type": "markdown",
   "id": "ff290cbc",
   "metadata": {
    "id": "dbee1a23-50eb-472d-b0ff-e23ac00eb22c"
   },
   "source": [
    "---"
   ]
  },
  {
   "cell_type": "code",
   "execution_count": 33,
   "id": "63695240",
   "metadata": {},
   "outputs": [
    {
     "name": "stdout",
     "output_type": "stream",
     "text": [
      "Requirement already satisfied: directory_tree in /home/simoneponcioni/anaconda3/envs/ormir-mids/lib/python3.9/site-packages (1.0.0)\n",
      "Requirement already satisfied: ipywidgets in /home/simoneponcioni/anaconda3/envs/ormir-mids/lib/python3.9/site-packages (8.1.5)\n",
      "Requirement already satisfied: comm>=0.1.3 in /home/simoneponcioni/anaconda3/envs/ormir-mids/lib/python3.9/site-packages (from ipywidgets) (0.2.2)\n",
      "Requirement already satisfied: ipython>=6.1.0 in /home/simoneponcioni/anaconda3/envs/ormir-mids/lib/python3.9/site-packages (from ipywidgets) (8.18.1)\n",
      "Requirement already satisfied: traitlets>=4.3.1 in /home/simoneponcioni/anaconda3/envs/ormir-mids/lib/python3.9/site-packages (from ipywidgets) (5.14.3)\n",
      "Requirement already satisfied: widgetsnbextension~=4.0.12 in /home/simoneponcioni/anaconda3/envs/ormir-mids/lib/python3.9/site-packages (from ipywidgets) (4.0.13)\n",
      "Requirement already satisfied: jupyterlab-widgets~=3.0.12 in /home/simoneponcioni/anaconda3/envs/ormir-mids/lib/python3.9/site-packages (from ipywidgets) (3.0.13)\n",
      "Requirement already satisfied: decorator in /home/simoneponcioni/anaconda3/envs/ormir-mids/lib/python3.9/site-packages (from ipython>=6.1.0->ipywidgets) (5.1.1)\n",
      "Requirement already satisfied: jedi>=0.16 in /home/simoneponcioni/anaconda3/envs/ormir-mids/lib/python3.9/site-packages (from ipython>=6.1.0->ipywidgets) (0.19.1)\n",
      "Requirement already satisfied: matplotlib-inline in /home/simoneponcioni/anaconda3/envs/ormir-mids/lib/python3.9/site-packages (from ipython>=6.1.0->ipywidgets) (0.1.7)\n",
      "Requirement already satisfied: prompt-toolkit<3.1.0,>=3.0.41 in /home/simoneponcioni/anaconda3/envs/ormir-mids/lib/python3.9/site-packages (from ipython>=6.1.0->ipywidgets) (3.0.48)\n",
      "Requirement already satisfied: pygments>=2.4.0 in /home/simoneponcioni/anaconda3/envs/ormir-mids/lib/python3.9/site-packages (from ipython>=6.1.0->ipywidgets) (2.18.0)\n",
      "Requirement already satisfied: stack-data in /home/simoneponcioni/anaconda3/envs/ormir-mids/lib/python3.9/site-packages (from ipython>=6.1.0->ipywidgets) (0.6.2)\n",
      "Requirement already satisfied: typing-extensions in /home/simoneponcioni/anaconda3/envs/ormir-mids/lib/python3.9/site-packages (from ipython>=6.1.0->ipywidgets) (4.12.2)\n",
      "Requirement already satisfied: exceptiongroup in /home/simoneponcioni/anaconda3/envs/ormir-mids/lib/python3.9/site-packages (from ipython>=6.1.0->ipywidgets) (1.2.2)\n",
      "Requirement already satisfied: pexpect>4.3 in /home/simoneponcioni/anaconda3/envs/ormir-mids/lib/python3.9/site-packages (from ipython>=6.1.0->ipywidgets) (4.9.0)\n",
      "Requirement already satisfied: parso<0.9.0,>=0.8.3 in /home/simoneponcioni/anaconda3/envs/ormir-mids/lib/python3.9/site-packages (from jedi>=0.16->ipython>=6.1.0->ipywidgets) (0.8.4)\n",
      "Requirement already satisfied: ptyprocess>=0.5 in /home/simoneponcioni/anaconda3/envs/ormir-mids/lib/python3.9/site-packages (from pexpect>4.3->ipython>=6.1.0->ipywidgets) (0.7.0)\n",
      "Requirement already satisfied: wcwidth in /home/simoneponcioni/anaconda3/envs/ormir-mids/lib/python3.9/site-packages (from prompt-toolkit<3.1.0,>=3.0.41->ipython>=6.1.0->ipywidgets) (0.2.13)\n",
      "Requirement already satisfied: executing>=1.2.0 in /home/simoneponcioni/anaconda3/envs/ormir-mids/lib/python3.9/site-packages (from stack-data->ipython>=6.1.0->ipywidgets) (2.1.0)\n",
      "Requirement already satisfied: asttokens>=2.1.0 in /home/simoneponcioni/anaconda3/envs/ormir-mids/lib/python3.9/site-packages (from stack-data->ipython>=6.1.0->ipywidgets) (2.4.1)\n",
      "Requirement already satisfied: pure-eval in /home/simoneponcioni/anaconda3/envs/ormir-mids/lib/python3.9/site-packages (from stack-data->ipython>=6.1.0->ipywidgets) (0.2.3)\n",
      "Requirement already satisfied: six>=1.12.0 in /home/simoneponcioni/anaconda3/envs/ormir-mids/lib/python3.9/site-packages (from asttokens>=2.1.0->stack-data->ipython>=6.1.0->ipywidgets) (1.16.0)\n",
      "Requirement already satisfied: matplotlib in /home/simoneponcioni/anaconda3/envs/ormir-mids/lib/python3.9/site-packages (3.9.2)\n",
      "Requirement already satisfied: contourpy>=1.0.1 in /home/simoneponcioni/anaconda3/envs/ormir-mids/lib/python3.9/site-packages (from matplotlib) (1.3.0)\n",
      "Requirement already satisfied: cycler>=0.10 in /home/simoneponcioni/anaconda3/envs/ormir-mids/lib/python3.9/site-packages (from matplotlib) (0.12.1)\n",
      "Requirement already satisfied: fonttools>=4.22.0 in /home/simoneponcioni/anaconda3/envs/ormir-mids/lib/python3.9/site-packages (from matplotlib) (4.54.1)\n",
      "Requirement already satisfied: kiwisolver>=1.3.1 in /home/simoneponcioni/anaconda3/envs/ormir-mids/lib/python3.9/site-packages (from matplotlib) (1.4.7)\n",
      "Requirement already satisfied: numpy>=1.23 in /home/simoneponcioni/anaconda3/envs/ormir-mids/lib/python3.9/site-packages (from matplotlib) (2.0.2)\n",
      "Requirement already satisfied: packaging>=20.0 in /home/simoneponcioni/anaconda3/envs/ormir-mids/lib/python3.9/site-packages (from matplotlib) (24.1)\n",
      "Requirement already satisfied: pillow>=8 in /home/simoneponcioni/anaconda3/envs/ormir-mids/lib/python3.9/site-packages (from matplotlib) (10.4.0)\n",
      "Requirement already satisfied: pyparsing>=2.3.1 in /home/simoneponcioni/anaconda3/envs/ormir-mids/lib/python3.9/site-packages (from matplotlib) (3.2.0)\n",
      "Requirement already satisfied: python-dateutil>=2.7 in /home/simoneponcioni/anaconda3/envs/ormir-mids/lib/python3.9/site-packages (from matplotlib) (2.9.0.post0)\n",
      "Requirement already satisfied: importlib-resources>=3.2.0 in /home/simoneponcioni/anaconda3/envs/ormir-mids/lib/python3.9/site-packages (from matplotlib) (6.4.5)\n",
      "Requirement already satisfied: zipp>=3.1.0 in /home/simoneponcioni/anaconda3/envs/ormir-mids/lib/python3.9/site-packages (from importlib-resources>=3.2.0->matplotlib) (3.20.2)\n",
      "Requirement already satisfied: six>=1.5 in /home/simoneponcioni/anaconda3/envs/ormir-mids/lib/python3.9/site-packages (from python-dateutil>=2.7->matplotlib) (1.16.0)\n",
      "Requirement already satisfied: watermark in /home/simoneponcioni/anaconda3/envs/ormir-mids/lib/python3.9/site-packages (2.5.0)\n",
      "Requirement already satisfied: ipython>=6.0 in /home/simoneponcioni/anaconda3/envs/ormir-mids/lib/python3.9/site-packages (from watermark) (8.18.1)\n",
      "Requirement already satisfied: importlib-metadata>=1.4 in /home/simoneponcioni/anaconda3/envs/ormir-mids/lib/python3.9/site-packages (from watermark) (8.5.0)\n",
      "Requirement already satisfied: setuptools in /home/simoneponcioni/anaconda3/envs/ormir-mids/lib/python3.9/site-packages (from watermark) (75.1.0)\n",
      "Requirement already satisfied: zipp>=3.20 in /home/simoneponcioni/anaconda3/envs/ormir-mids/lib/python3.9/site-packages (from importlib-metadata>=1.4->watermark) (3.20.2)\n",
      "Requirement already satisfied: decorator in /home/simoneponcioni/anaconda3/envs/ormir-mids/lib/python3.9/site-packages (from ipython>=6.0->watermark) (5.1.1)\n",
      "Requirement already satisfied: jedi>=0.16 in /home/simoneponcioni/anaconda3/envs/ormir-mids/lib/python3.9/site-packages (from ipython>=6.0->watermark) (0.19.1)\n",
      "Requirement already satisfied: matplotlib-inline in /home/simoneponcioni/anaconda3/envs/ormir-mids/lib/python3.9/site-packages (from ipython>=6.0->watermark) (0.1.7)\n",
      "Requirement already satisfied: prompt-toolkit<3.1.0,>=3.0.41 in /home/simoneponcioni/anaconda3/envs/ormir-mids/lib/python3.9/site-packages (from ipython>=6.0->watermark) (3.0.48)\n",
      "Requirement already satisfied: pygments>=2.4.0 in /home/simoneponcioni/anaconda3/envs/ormir-mids/lib/python3.9/site-packages (from ipython>=6.0->watermark) (2.18.0)\n",
      "Requirement already satisfied: stack-data in /home/simoneponcioni/anaconda3/envs/ormir-mids/lib/python3.9/site-packages (from ipython>=6.0->watermark) (0.6.2)\n",
      "Requirement already satisfied: traitlets>=5 in /home/simoneponcioni/anaconda3/envs/ormir-mids/lib/python3.9/site-packages (from ipython>=6.0->watermark) (5.14.3)\n",
      "Requirement already satisfied: typing-extensions in /home/simoneponcioni/anaconda3/envs/ormir-mids/lib/python3.9/site-packages (from ipython>=6.0->watermark) (4.12.2)\n",
      "Requirement already satisfied: exceptiongroup in /home/simoneponcioni/anaconda3/envs/ormir-mids/lib/python3.9/site-packages (from ipython>=6.0->watermark) (1.2.2)\n",
      "Requirement already satisfied: pexpect>4.3 in /home/simoneponcioni/anaconda3/envs/ormir-mids/lib/python3.9/site-packages (from ipython>=6.0->watermark) (4.9.0)\n",
      "Requirement already satisfied: parso<0.9.0,>=0.8.3 in /home/simoneponcioni/anaconda3/envs/ormir-mids/lib/python3.9/site-packages (from jedi>=0.16->ipython>=6.0->watermark) (0.8.4)\n",
      "Requirement already satisfied: ptyprocess>=0.5 in /home/simoneponcioni/anaconda3/envs/ormir-mids/lib/python3.9/site-packages (from pexpect>4.3->ipython>=6.0->watermark) (0.7.0)\n",
      "Requirement already satisfied: wcwidth in /home/simoneponcioni/anaconda3/envs/ormir-mids/lib/python3.9/site-packages (from prompt-toolkit<3.1.0,>=3.0.41->ipython>=6.0->watermark) (0.2.13)\n",
      "Requirement already satisfied: executing>=1.2.0 in /home/simoneponcioni/anaconda3/envs/ormir-mids/lib/python3.9/site-packages (from stack-data->ipython>=6.0->watermark) (2.1.0)\n",
      "Requirement already satisfied: asttokens>=2.1.0 in /home/simoneponcioni/anaconda3/envs/ormir-mids/lib/python3.9/site-packages (from stack-data->ipython>=6.0->watermark) (2.4.1)\n",
      "Requirement already satisfied: pure-eval in /home/simoneponcioni/anaconda3/envs/ormir-mids/lib/python3.9/site-packages (from stack-data->ipython>=6.0->watermark) (0.2.3)\n",
      "Requirement already satisfied: six>=1.12.0 in /home/simoneponcioni/anaconda3/envs/ormir-mids/lib/python3.9/site-packages (from asttokens>=2.1.0->stack-data->ipython>=6.0->watermark) (1.16.0)\n"
     ]
    }
   ],
   "source": [
    "# Additional requirements for running the notebook\n",
    "!pip3 install directory_tree\n",
    "!pip install ipywidgets\n",
    "!pip install matplotlib\n",
    "!pip install watermark\n",
    "from directory_tree import DisplayTree"
   ]
  },
  {
   "cell_type": "markdown",
   "id": "36288364",
   "metadata": {},
   "source": [
    "## Installation\n",
    "\n",
    "To install the ormir-mids package, run the code below, noting the dependencies at the bottom of this document."
   ]
  },
  {
   "cell_type": "markdown",
   "id": "87c8232e",
   "metadata": {
    "id": "1ez9P2peUcj2"
   },
   "source": [
    "First, we clone the git repository:"
   ]
  },
  {
   "cell_type": "code",
   "execution_count": 25,
   "id": "73997652",
   "metadata": {
    "id": "06LJXDhkMuAI"
   },
   "outputs": [
    {
     "name": "stdout",
     "output_type": "stream",
     "text": [
      "Cloning into 'ormir-mids'...\n",
      "remote: Enumerating objects: 1157, done.\u001b[K\n",
      "remote: Counting objects: 100% (423/423), done.\u001b[K\n",
      "remote: Compressing objects: 100% (212/212), done.\u001b[K\n",
      "^Cceiving objects:   5% (58/1157)\n"
     ]
    }
   ],
   "source": [
    "!git clone https://github.com/ormir-mids/ormir-mids.git"
   ]
  },
  {
   "cell_type": "markdown",
   "id": "f3f37ae9",
   "metadata": {
    "id": "12lJxhKEUjcH"
   },
   "source": [
    "Now we can install the package using `pip`. This will also install the required dependencies."
   ]
  },
  {
   "cell_type": "code",
   "execution_count": 15,
   "id": "9d1ab374",
   "metadata": {
    "id": "-hbAjx-uNW2e",
    "scrolled": true,
    "tags": []
   },
   "outputs": [
    {
     "name": "stdout",
     "output_type": "stream",
     "text": [
      "/Users/msb/Documents/02_PROJECTS/2024-ormir-mids\n",
      "Processing /Users/msb/Documents/02_PROJECTS/2024-ormir-mids\n",
      "  Installing build dependencies ... \u001b[?25ldone\n",
      "\u001b[?25h  Getting requirements to build wheel ... \u001b[?25ldone\n",
      "\u001b[?25h  Preparing metadata (pyproject.toml) ... \u001b[?25ldone\n",
      "\u001b[?25hRequirement already satisfied: bidict in /Users/msb/opt/anaconda3/envs/ormir-mids/lib/python3.12/site-packages (from ormir-mids==0.0.2) (0.23.1)\n",
      "Requirement already satisfied: natsort in /Users/msb/opt/anaconda3/envs/ormir-mids/lib/python3.12/site-packages (from ormir-mids==0.0.2) (8.4.0)\n",
      "Requirement already satisfied: nibabel in /Users/msb/opt/anaconda3/envs/ormir-mids/lib/python3.12/site-packages (from ormir-mids==0.0.2) (5.2.1)\n",
      "Requirement already satisfied: numpy in /Users/msb/opt/anaconda3/envs/ormir-mids/lib/python3.12/site-packages (from ormir-mids==0.0.2) (2.1.2)\n",
      "Requirement already satisfied: scipy in /Users/msb/opt/anaconda3/envs/ormir-mids/lib/python3.12/site-packages (from ormir-mids==0.0.2) (1.14.1)\n",
      "Requirement already satisfied: packaging in /Users/msb/opt/anaconda3/envs/ormir-mids/lib/python3.12/site-packages (from ormir-mids==0.0.2) (24.1)\n",
      "Requirement already satisfied: pydicom in /Users/msb/opt/anaconda3/envs/ormir-mids/lib/python3.12/site-packages (from ormir-mids==0.0.2) (3.0.1)\n",
      "Requirement already satisfied: tqdm in /Users/msb/opt/anaconda3/envs/ormir-mids/lib/python3.12/site-packages (from ormir-mids==0.0.2) (4.66.5)\n",
      "Requirement already satisfied: ormir-pyvoxel in /Users/msb/opt/anaconda3/envs/ormir-mids/lib/python3.12/site-packages (from ormir-mids==0.0.2) (0.0.3)\n",
      "Requirement already satisfied: dataclasses>=0.6 in /Users/msb/opt/anaconda3/envs/ormir-mids/lib/python3.12/site-packages (from ormir-pyvoxel->ormir-mids==0.0.2) (0.6)\n",
      "Requirement already satisfied: PyYAML>=5.4.1 in /Users/msb/opt/anaconda3/envs/ormir-mids/lib/python3.12/site-packages (from ormir-pyvoxel->ormir-mids==0.0.2) (6.0.2)\n",
      "Requirement already satisfied: requests in /Users/msb/opt/anaconda3/envs/ormir-mids/lib/python3.12/site-packages (from ormir-pyvoxel->ormir-mids==0.0.2) (2.32.3)\n",
      "Requirement already satisfied: tabulate in /Users/msb/opt/anaconda3/envs/ormir-mids/lib/python3.12/site-packages (from ormir-pyvoxel->ormir-mids==0.0.2) (0.9.0)\n",
      "Requirement already satisfied: termcolor in /Users/msb/opt/anaconda3/envs/ormir-mids/lib/python3.12/site-packages (from ormir-pyvoxel->ormir-mids==0.0.2) (2.5.0)\n",
      "Requirement already satisfied: charset-normalizer<4,>=2 in /Users/msb/opt/anaconda3/envs/ormir-mids/lib/python3.12/site-packages (from requests->ormir-pyvoxel->ormir-mids==0.0.2) (3.3.2)\n",
      "Requirement already satisfied: idna<4,>=2.5 in /Users/msb/opt/anaconda3/envs/ormir-mids/lib/python3.12/site-packages (from requests->ormir-pyvoxel->ormir-mids==0.0.2) (3.10)\n",
      "Requirement already satisfied: urllib3<3,>=1.21.1 in /Users/msb/opt/anaconda3/envs/ormir-mids/lib/python3.12/site-packages (from requests->ormir-pyvoxel->ormir-mids==0.0.2) (2.2.3)\n",
      "Requirement already satisfied: certifi>=2017.4.17 in /Users/msb/opt/anaconda3/envs/ormir-mids/lib/python3.12/site-packages (from requests->ormir-pyvoxel->ormir-mids==0.0.2) (2024.8.30)\n",
      "Building wheels for collected packages: ormir-mids\n",
      "  Building wheel for ormir-mids (pyproject.toml) ... \u001b[?25ldone\n",
      "\u001b[?25h  Created wheel for ormir-mids: filename=ormir_mids-0.0.2-py3-none-any.whl size=36127 sha256=f04b7b44beb20b25aecf9092031570b17a913e881eb2746de6af95d74c4d8460\n",
      "  Stored in directory: /Users/msb/Library/Caches/pip/wheels/1b/3a/bf/a7b5bc4255d4c7816172d5335d5efc285142bce092ac72ba44\n",
      "Successfully built ormir-mids\n",
      "Installing collected packages: ormir-mids\n",
      "  Attempting uninstall: ormir-mids\n",
      "    Found existing installation: ormir-mids 0.0.2\n",
      "    Uninstalling ormir-mids-0.0.2:\n",
      "      Successfully uninstalled ormir-mids-0.0.2\n",
      "Successfully installed ormir-mids-0.0.2\n",
      "Requirement already satisfied: nibabel in /Users/msb/opt/anaconda3/envs/ormir-mids/lib/python3.12/site-packages (5.2.1)\n",
      "Requirement already satisfied: numpy>=1.20 in /Users/msb/opt/anaconda3/envs/ormir-mids/lib/python3.12/site-packages (from nibabel) (2.1.2)\n",
      "Requirement already satisfied: packaging>=17 in /Users/msb/opt/anaconda3/envs/ormir-mids/lib/python3.12/site-packages (from nibabel) (24.1)\n"
     ]
    }
   ],
   "source": [
    "%cd ormir-mids\n",
    "!pip install .\n",
    "!pip install --upgrade nibabel # the default nibabel has bugs"
   ]
  },
  {
   "cell_type": "markdown",
   "id": "8f1895df",
   "metadata": {
    "id": "J4tJagweUrAg"
   },
   "source": [
    "The package is now ready to be used! Lets decompress the example files."
   ]
  },
  {
   "cell_type": "code",
   "execution_count": 4,
   "id": "95689715",
   "metadata": {
    "id": "a46e4cb1-75d9-4ae7-bdd7-9bc8123ad334",
    "scrolled": true,
    "tags": []
   },
   "outputs": [
    {
     "name": "stdout",
     "output_type": "stream",
     "text": [
      "/home/simoneponcioni/Documents/02_PROJECTS/2024-ormir-mids\n",
      "Archive:  dicom.zip\n",
      "   creating: dicom/\n",
      "  inflating: dicom/Philips_MESE_T2.dcm  \n",
      "   creating: dicom/GE_MEGRE_B0/\n",
      "  inflating: dicom/GE_MEGRE_B0/IM0   \n",
      "  inflating: dicom/GE_MEGRE_B0/IM1   \n",
      "  inflating: dicom/GE_MEGRE_B0/IM10  \n",
      "  inflating: dicom/GE_MEGRE_B0/IM100  \n",
      "  inflating: dicom/GE_MEGRE_B0/IM101  \n",
      "  inflating: dicom/GE_MEGRE_B0/IM102  \n",
      "  inflating: dicom/GE_MEGRE_B0/IM103  \n",
      "  inflating: dicom/GE_MEGRE_B0/IM104  \n",
      "  inflating: dicom/GE_MEGRE_B0/IM105  \n",
      "  inflating: dicom/GE_MEGRE_B0/IM106  \n",
      "  inflating: dicom/GE_MEGRE_B0/IM107  \n",
      "  inflating: dicom/GE_MEGRE_B0/IM108  \n",
      "  inflating: dicom/GE_MEGRE_B0/IM109  \n",
      "  inflating: dicom/GE_MEGRE_B0/IM11  \n",
      "  inflating: dicom/GE_MEGRE_B0/IM110  \n",
      "  inflating: dicom/GE_MEGRE_B0/IM111  \n",
      "  inflating: dicom/GE_MEGRE_B0/IM112  \n",
      "  inflating: dicom/GE_MEGRE_B0/IM113  \n",
      "  inflating: dicom/GE_MEGRE_B0/IM114  \n",
      "  inflating: dicom/GE_MEGRE_B0/IM115  \n",
      "  inflating: dicom/GE_MEGRE_B0/IM116  \n",
      "  inflating: dicom/GE_MEGRE_B0/IM117  \n",
      "  inflating: dicom/GE_MEGRE_B0/IM118  \n",
      "  inflating: dicom/GE_MEGRE_B0/IM119  \n",
      "  inflating: dicom/GE_MEGRE_B0/IM12  \n",
      "  inflating: dicom/GE_MEGRE_B0/IM120  \n",
      "  inflating: dicom/GE_MEGRE_B0/IM121  \n",
      "  inflating: dicom/GE_MEGRE_B0/IM122  \n",
      "  inflating: dicom/GE_MEGRE_B0/IM123  \n",
      "  inflating: dicom/GE_MEGRE_B0/IM124  \n",
      "  inflating: dicom/GE_MEGRE_B0/IM125  \n",
      "  inflating: dicom/GE_MEGRE_B0/IM126  \n",
      "  inflating: dicom/GE_MEGRE_B0/IM127  \n",
      "  inflating: dicom/GE_MEGRE_B0/IM128  \n",
      "  inflating: dicom/GE_MEGRE_B0/IM129  \n",
      "  inflating: dicom/GE_MEGRE_B0/IM13  \n",
      "  inflating: dicom/GE_MEGRE_B0/IM130  \n",
      "  inflating: dicom/GE_MEGRE_B0/IM131  \n",
      "  inflating: dicom/GE_MEGRE_B0/IM132  \n",
      "  inflating: dicom/GE_MEGRE_B0/IM133  \n",
      "  inflating: dicom/GE_MEGRE_B0/IM134  \n",
      "  inflating: dicom/GE_MEGRE_B0/IM135  \n",
      "  inflating: dicom/GE_MEGRE_B0/IM136  \n",
      "  inflating: dicom/GE_MEGRE_B0/IM137  \n",
      "  inflating: dicom/GE_MEGRE_B0/IM138  \n",
      "  inflating: dicom/GE_MEGRE_B0/IM139  \n",
      "  inflating: dicom/GE_MEGRE_B0/IM14  \n",
      "  inflating: dicom/GE_MEGRE_B0/IM140  \n",
      "  inflating: dicom/GE_MEGRE_B0/IM141  \n",
      "  inflating: dicom/GE_MEGRE_B0/IM142  \n",
      "  inflating: dicom/GE_MEGRE_B0/IM143  \n",
      "  inflating: dicom/GE_MEGRE_B0/IM144  \n",
      "  inflating: dicom/GE_MEGRE_B0/IM145  \n",
      "  inflating: dicom/GE_MEGRE_B0/IM146  \n",
      "  inflating: dicom/GE_MEGRE_B0/IM147  \n",
      "  inflating: dicom/GE_MEGRE_B0/IM148  \n",
      "  inflating: dicom/GE_MEGRE_B0/IM149  \n",
      "  inflating: dicom/GE_MEGRE_B0/IM15  \n",
      "  inflating: dicom/GE_MEGRE_B0/IM150  \n",
      "  inflating: dicom/GE_MEGRE_B0/IM151  \n",
      "  inflating: dicom/GE_MEGRE_B0/IM152  \n",
      "  inflating: dicom/GE_MEGRE_B0/IM153  \n",
      "  inflating: dicom/GE_MEGRE_B0/IM154  \n",
      "  inflating: dicom/GE_MEGRE_B0/IM155  \n",
      "  inflating: dicom/GE_MEGRE_B0/IM156  \n",
      "  inflating: dicom/GE_MEGRE_B0/IM157  \n",
      "  inflating: dicom/GE_MEGRE_B0/IM158  \n",
      "  inflating: dicom/GE_MEGRE_B0/IM159  \n",
      "  inflating: dicom/GE_MEGRE_B0/IM16  \n",
      "  inflating: dicom/GE_MEGRE_B0/IM160  \n",
      "  inflating: dicom/GE_MEGRE_B0/IM161  \n",
      "  inflating: dicom/GE_MEGRE_B0/IM162  \n",
      "  inflating: dicom/GE_MEGRE_B0/IM163  \n",
      "  inflating: dicom/GE_MEGRE_B0/IM164  \n",
      "  inflating: dicom/GE_MEGRE_B0/IM165  \n",
      "  inflating: dicom/GE_MEGRE_B0/IM166  \n",
      "  inflating: dicom/GE_MEGRE_B0/IM167  \n",
      "  inflating: dicom/GE_MEGRE_B0/IM168  \n",
      "  inflating: dicom/GE_MEGRE_B0/IM169  \n",
      "  inflating: dicom/GE_MEGRE_B0/IM17  \n",
      "  inflating: dicom/GE_MEGRE_B0/IM170  \n",
      "  inflating: dicom/GE_MEGRE_B0/IM171  \n",
      "  inflating: dicom/GE_MEGRE_B0/IM172  \n",
      "  inflating: dicom/GE_MEGRE_B0/IM173  \n",
      "  inflating: dicom/GE_MEGRE_B0/IM174  \n",
      "  inflating: dicom/GE_MEGRE_B0/IM175  \n",
      "  inflating: dicom/GE_MEGRE_B0/IM176  \n",
      "  inflating: dicom/GE_MEGRE_B0/IM177  \n",
      "  inflating: dicom/GE_MEGRE_B0/IM178  \n",
      "  inflating: dicom/GE_MEGRE_B0/IM179  \n",
      "  inflating: dicom/GE_MEGRE_B0/IM18  \n",
      "  inflating: dicom/GE_MEGRE_B0/IM180  \n",
      "  inflating: dicom/GE_MEGRE_B0/IM181  \n",
      "  inflating: dicom/GE_MEGRE_B0/IM182  \n",
      "  inflating: dicom/GE_MEGRE_B0/IM183  \n",
      "  inflating: dicom/GE_MEGRE_B0/IM184  \n",
      "  inflating: dicom/GE_MEGRE_B0/IM185  \n",
      "  inflating: dicom/GE_MEGRE_B0/IM186  \n",
      "  inflating: dicom/GE_MEGRE_B0/IM187  \n",
      "  inflating: dicom/GE_MEGRE_B0/IM188  \n",
      "  inflating: dicom/GE_MEGRE_B0/IM189  \n",
      "  inflating: dicom/GE_MEGRE_B0/IM19  \n",
      "  inflating: dicom/GE_MEGRE_B0/IM190  \n",
      "  inflating: dicom/GE_MEGRE_B0/IM191  \n",
      "  inflating: dicom/GE_MEGRE_B0/IM192  \n",
      "  inflating: dicom/GE_MEGRE_B0/IM193  \n",
      "  inflating: dicom/GE_MEGRE_B0/IM194  \n",
      "  inflating: dicom/GE_MEGRE_B0/IM195  \n",
      "  inflating: dicom/GE_MEGRE_B0/IM196  \n",
      "  inflating: dicom/GE_MEGRE_B0/IM197  \n",
      "  inflating: dicom/GE_MEGRE_B0/IM198  \n",
      "  inflating: dicom/GE_MEGRE_B0/IM199  \n",
      "  inflating: dicom/GE_MEGRE_B0/IM2   \n",
      "  inflating: dicom/GE_MEGRE_B0/IM20  \n",
      "  inflating: dicom/GE_MEGRE_B0/IM200  \n",
      "  inflating: dicom/GE_MEGRE_B0/IM201  \n",
      "  inflating: dicom/GE_MEGRE_B0/IM202  \n",
      "  inflating: dicom/GE_MEGRE_B0/IM203  \n",
      "  inflating: dicom/GE_MEGRE_B0/IM204  \n",
      "  inflating: dicom/GE_MEGRE_B0/IM205  \n",
      "  inflating: dicom/GE_MEGRE_B0/IM206  \n",
      "  inflating: dicom/GE_MEGRE_B0/IM207  \n",
      "  inflating: dicom/GE_MEGRE_B0/IM208  \n",
      "  inflating: dicom/GE_MEGRE_B0/IM209  \n",
      "  inflating: dicom/GE_MEGRE_B0/IM21  \n",
      "  inflating: dicom/GE_MEGRE_B0/IM210  \n",
      "  inflating: dicom/GE_MEGRE_B0/IM211  \n",
      "  inflating: dicom/GE_MEGRE_B0/IM212  \n",
      "  inflating: dicom/GE_MEGRE_B0/IM213  \n",
      "  inflating: dicom/GE_MEGRE_B0/IM214  \n",
      "  inflating: dicom/GE_MEGRE_B0/IM215  \n",
      "  inflating: dicom/GE_MEGRE_B0/IM216  \n",
      "  inflating: dicom/GE_MEGRE_B0/IM217  \n",
      "  inflating: dicom/GE_MEGRE_B0/IM218  \n",
      "  inflating: dicom/GE_MEGRE_B0/IM219  \n",
      "  inflating: dicom/GE_MEGRE_B0/IM22  \n",
      "  inflating: dicom/GE_MEGRE_B0/IM220  \n",
      "  inflating: dicom/GE_MEGRE_B0/IM221  \n",
      "  inflating: dicom/GE_MEGRE_B0/IM222  \n",
      "  inflating: dicom/GE_MEGRE_B0/IM223  \n",
      "  inflating: dicom/GE_MEGRE_B0/IM224  \n",
      "  inflating: dicom/GE_MEGRE_B0/IM225  \n",
      "  inflating: dicom/GE_MEGRE_B0/IM226  \n",
      "  inflating: dicom/GE_MEGRE_B0/IM227  \n",
      "  inflating: dicom/GE_MEGRE_B0/IM228  \n",
      "  inflating: dicom/GE_MEGRE_B0/IM229  \n",
      "  inflating: dicom/GE_MEGRE_B0/IM23  \n",
      "  inflating: dicom/GE_MEGRE_B0/IM230  \n",
      "  inflating: dicom/GE_MEGRE_B0/IM231  \n",
      "  inflating: dicom/GE_MEGRE_B0/IM232  \n",
      "  inflating: dicom/GE_MEGRE_B0/IM233  \n",
      "  inflating: dicom/GE_MEGRE_B0/IM234  \n",
      "  inflating: dicom/GE_MEGRE_B0/IM235  \n",
      "  inflating: dicom/GE_MEGRE_B0/IM236  \n",
      "  inflating: dicom/GE_MEGRE_B0/IM237  \n",
      "  inflating: dicom/GE_MEGRE_B0/IM238  \n",
      "  inflating: dicom/GE_MEGRE_B0/IM239  \n",
      "  inflating: dicom/GE_MEGRE_B0/IM24  \n",
      "  inflating: dicom/GE_MEGRE_B0/IM240  \n",
      "  inflating: dicom/GE_MEGRE_B0/IM241  \n",
      "  inflating: dicom/GE_MEGRE_B0/IM242  \n",
      "  inflating: dicom/GE_MEGRE_B0/IM243  \n",
      "  inflating: dicom/GE_MEGRE_B0/IM244  \n",
      "  inflating: dicom/GE_MEGRE_B0/IM245  \n",
      "  inflating: dicom/GE_MEGRE_B0/IM246  \n",
      "  inflating: dicom/GE_MEGRE_B0/IM247  \n",
      "  inflating: dicom/GE_MEGRE_B0/IM248  \n",
      "  inflating: dicom/GE_MEGRE_B0/IM249  \n",
      "  inflating: dicom/GE_MEGRE_B0/IM25  \n",
      "  inflating: dicom/GE_MEGRE_B0/IM250  \n",
      "  inflating: dicom/GE_MEGRE_B0/IM251  \n",
      "  inflating: dicom/GE_MEGRE_B0/IM252  \n",
      "  inflating: dicom/GE_MEGRE_B0/IM253  \n",
      "  inflating: dicom/GE_MEGRE_B0/IM254  \n",
      "  inflating: dicom/GE_MEGRE_B0/IM255  \n",
      "  inflating: dicom/GE_MEGRE_B0/IM26  \n",
      "  inflating: dicom/GE_MEGRE_B0/IM27  \n",
      "  inflating: dicom/GE_MEGRE_B0/IM28  \n",
      "  inflating: dicom/GE_MEGRE_B0/IM29  \n",
      "  inflating: dicom/GE_MEGRE_B0/IM3   \n",
      "  inflating: dicom/GE_MEGRE_B0/IM30  \n",
      "  inflating: dicom/GE_MEGRE_B0/IM31  \n",
      "  inflating: dicom/GE_MEGRE_B0/IM32  \n",
      "  inflating: dicom/GE_MEGRE_B0/IM33  \n",
      "  inflating: dicom/GE_MEGRE_B0/IM34  \n",
      "  inflating: dicom/GE_MEGRE_B0/IM35  \n",
      "  inflating: dicom/GE_MEGRE_B0/IM36  \n",
      "  inflating: dicom/GE_MEGRE_B0/IM37  \n",
      "  inflating: dicom/GE_MEGRE_B0/IM38  \n",
      "  inflating: dicom/GE_MEGRE_B0/IM39  \n",
      "  inflating: dicom/GE_MEGRE_B0/IM4   \n",
      "  inflating: dicom/GE_MEGRE_B0/IM40  \n",
      "  inflating: dicom/GE_MEGRE_B0/IM41  \n",
      "  inflating: dicom/GE_MEGRE_B0/IM42  \n",
      "  inflating: dicom/GE_MEGRE_B0/IM43  \n",
      "  inflating: dicom/GE_MEGRE_B0/IM44  \n",
      "  inflating: dicom/GE_MEGRE_B0/IM45  \n",
      "  inflating: dicom/GE_MEGRE_B0/IM46  \n",
      "  inflating: dicom/GE_MEGRE_B0/IM47  \n",
      "  inflating: dicom/GE_MEGRE_B0/IM48  \n",
      "  inflating: dicom/GE_MEGRE_B0/IM49  \n",
      "  inflating: dicom/GE_MEGRE_B0/IM5   \n",
      "  inflating: dicom/GE_MEGRE_B0/IM50  \n",
      "  inflating: dicom/GE_MEGRE_B0/IM51  \n",
      "  inflating: dicom/GE_MEGRE_B0/IM52  \n",
      "  inflating: dicom/GE_MEGRE_B0/IM53  \n",
      "  inflating: dicom/GE_MEGRE_B0/IM54  \n",
      "  inflating: dicom/GE_MEGRE_B0/IM55  \n",
      "  inflating: dicom/GE_MEGRE_B0/IM56  \n",
      "  inflating: dicom/GE_MEGRE_B0/IM57  \n",
      "  inflating: dicom/GE_MEGRE_B0/IM58  \n",
      "  inflating: dicom/GE_MEGRE_B0/IM59  \n",
      "  inflating: dicom/GE_MEGRE_B0/IM6   \n",
      "  inflating: dicom/GE_MEGRE_B0/IM60  \n",
      "  inflating: dicom/GE_MEGRE_B0/IM61  \n",
      "  inflating: dicom/GE_MEGRE_B0/IM62  \n",
      "  inflating: dicom/GE_MEGRE_B0/IM63  \n",
      "  inflating: dicom/GE_MEGRE_B0/IM64  \n",
      "  inflating: dicom/GE_MEGRE_B0/IM65  \n",
      "  inflating: dicom/GE_MEGRE_B0/IM66  \n",
      "  inflating: dicom/GE_MEGRE_B0/IM67  \n",
      "  inflating: dicom/GE_MEGRE_B0/IM68  \n",
      "  inflating: dicom/GE_MEGRE_B0/IM69  \n",
      "  inflating: dicom/GE_MEGRE_B0/IM7   \n",
      "  inflating: dicom/GE_MEGRE_B0/IM70  \n",
      "  inflating: dicom/GE_MEGRE_B0/IM71  \n",
      "  inflating: dicom/GE_MEGRE_B0/IM72  \n",
      "  inflating: dicom/GE_MEGRE_B0/IM73  \n",
      "  inflating: dicom/GE_MEGRE_B0/IM74  \n",
      "  inflating: dicom/GE_MEGRE_B0/IM75  \n",
      "  inflating: dicom/GE_MEGRE_B0/IM76  \n",
      "  inflating: dicom/GE_MEGRE_B0/IM77  \n",
      "  inflating: dicom/GE_MEGRE_B0/IM78  \n",
      "  inflating: dicom/GE_MEGRE_B0/IM79  \n",
      "  inflating: dicom/GE_MEGRE_B0/IM8   \n",
      "  inflating: dicom/GE_MEGRE_B0/IM80  \n",
      "  inflating: dicom/GE_MEGRE_B0/IM81  \n",
      "  inflating: dicom/GE_MEGRE_B0/IM82  \n",
      "  inflating: dicom/GE_MEGRE_B0/IM83  \n",
      "  inflating: dicom/GE_MEGRE_B0/IM84  \n",
      "  inflating: dicom/GE_MEGRE_B0/IM85  \n",
      "  inflating: dicom/GE_MEGRE_B0/IM86  \n",
      "  inflating: dicom/GE_MEGRE_B0/IM87  \n",
      "  inflating: dicom/GE_MEGRE_B0/IM88  \n",
      "  inflating: dicom/GE_MEGRE_B0/IM89  \n",
      "  inflating: dicom/GE_MEGRE_B0/IM9   \n",
      "  inflating: dicom/GE_MEGRE_B0/IM90  \n",
      "  inflating: dicom/GE_MEGRE_B0/IM91  \n",
      "  inflating: dicom/GE_MEGRE_B0/IM92  \n",
      "  inflating: dicom/GE_MEGRE_B0/IM93  \n",
      "  inflating: dicom/GE_MEGRE_B0/IM94  \n",
      "  inflating: dicom/GE_MEGRE_B0/IM95  \n",
      "  inflating: dicom/GE_MEGRE_B0/IM96  \n",
      "  inflating: dicom/GE_MEGRE_B0/IM97  \n",
      "  inflating: dicom/GE_MEGRE_B0/IM98  \n",
      "  inflating: dicom/GE_MEGRE_B0/IM99  \n"
     ]
    }
   ],
   "source": [
    "!unzip dicom.zip"
   ]
  },
  {
   "cell_type": "markdown",
   "id": "9dfbb967",
   "metadata": {
    "id": "UCJ9D9uKU5Rc"
   },
   "source": [
    "Let's have a look at what data are available. We'll use the Python package `directory_tree`, which allows us to display our directory structure."
   ]
  },
  {
   "cell_type": "code",
   "execution_count": 17,
   "id": "cc9357bd",
   "metadata": {
    "id": "8J8pbxXWTjg_"
   },
   "outputs": [
    {
     "name": "stdout",
     "output_type": "stream",
     "text": [
      "\n",
      "$ Operating System : Linux\n",
      "$ Path : dicom\n",
      "\n",
      "*************** Directory Tree ***************\n",
      "\n",
      "dicom/\n",
      "├── Philips_MESE_T2.dcm\n",
      "└── GE_MEGRE_B0/\n",
      "    ├── IM0\n",
      "    ├── IM1\n",
      "    ├── IM10\n",
      "    ├── IM100\n",
      "    ├── IM101\n",
      "    ├── IM102\n",
      "    ├── IM103\n",
      "    ├── IM104\n",
      "    ├── IM105\n",
      "    ├── IM106\n",
      "    ├── IM107\n",
      "    ├── IM108\n",
      "    ├── IM109\n",
      "    ├── IM11\n",
      "    ├── IM110\n",
      "    ├── IM111\n",
      "    ├── IM112\n",
      "    ├── IM113\n",
      "    ├── IM114\n",
      "    ├── IM115\n",
      "    ├── IM116\n",
      "    ├── IM117\n",
      "    ├── IM118\n",
      "    ├── IM119\n",
      "    ├── IM12\n",
      "    ├── IM120\n",
      "    ├── IM121\n",
      "    ├── IM122\n",
      "    ├── IM123\n",
      "    ├── IM124\n",
      "    ├── IM125\n",
      "    ├── IM126\n",
      "    ├── IM127\n",
      "    ├── IM128\n",
      "    ├── IM129\n",
      "    ├── IM13\n",
      "    ├── IM130\n",
      "    ├── IM131\n",
      "    ├── IM132\n",
      "    ├── IM133\n",
      "    ├── IM134\n",
      "    ├── IM135\n",
      "    ├── IM136\n",
      "    ├── IM137\n",
      "    ├── IM138\n",
      "    ├── IM139\n",
      "    ├── IM14\n",
      "    ├── IM140\n",
      "    ├── IM141\n",
      "    ├── IM142\n",
      "    ├── IM143\n",
      "    ├── IM144\n",
      "    ├── IM145\n",
      "    ├── IM146\n",
      "    ├── IM147\n",
      "    ├── IM148\n",
      "    ├── IM149\n",
      "    ├── IM15\n",
      "    ├── IM150\n",
      "    ├── IM151\n",
      "    ├── IM152\n",
      "    ├── IM153\n",
      "    ├── IM154\n",
      "    ├── IM155\n",
      "    ├── IM156\n",
      "    ├── IM157\n",
      "    ├── IM158\n",
      "    ├── IM159\n",
      "    ├── IM16\n",
      "    ├── IM160\n",
      "    ├── IM161\n",
      "    ├── IM162\n",
      "    ├── IM163\n",
      "    ├── IM164\n",
      "    ├── IM165\n",
      "    ├── IM166\n",
      "    ├── IM167\n",
      "    ├── IM168\n",
      "    ├── IM169\n",
      "    ├── IM17\n",
      "    ├── IM170\n",
      "    ├── IM171\n",
      "    ├── IM172\n",
      "    ├── IM173\n",
      "    ├── IM174\n",
      "    ├── IM175\n",
      "    ├── IM176\n",
      "    ├── IM177\n",
      "    ├── IM178\n",
      "    ├── IM179\n",
      "    ├── IM18\n",
      "    ├── IM180\n",
      "    ├── IM181\n",
      "    ├── IM182\n",
      "    ├── IM183\n",
      "    ├── IM184\n",
      "    ├── IM185\n",
      "    ├── IM186\n",
      "    ├── IM187\n",
      "    ├── IM188\n",
      "    ├── IM189\n",
      "    ├── IM19\n",
      "    ├── IM190\n",
      "    ├── IM191\n",
      "    ├── IM192\n",
      "    ├── IM193\n",
      "    ├── IM194\n",
      "    ├── IM195\n",
      "    ├── IM196\n",
      "    ├── IM197\n",
      "    ├── IM198\n",
      "    ├── IM199\n",
      "    ├── IM2\n",
      "    ├── IM20\n",
      "    ├── IM200\n",
      "    ├── IM201\n",
      "    ├── IM202\n",
      "    ├── IM203\n",
      "    ├── IM204\n",
      "    ├── IM205\n",
      "    ├── IM206\n",
      "    ├── IM207\n",
      "    ├── IM208\n",
      "    ├── IM209\n",
      "    ├── IM21\n",
      "    ├── IM210\n",
      "    ├── IM211\n",
      "    ├── IM212\n",
      "    ├── IM213\n",
      "    ├── IM214\n",
      "    ├── IM215\n",
      "    ├── IM216\n",
      "    ├── IM217\n",
      "    ├── IM218\n",
      "    ├── IM219\n",
      "    ├── IM22\n",
      "    ├── IM220\n",
      "    ├── IM221\n",
      "    ├── IM222\n",
      "    ├── IM223\n",
      "    ├── IM224\n",
      "    ├── IM225\n",
      "    ├── IM226\n",
      "    ├── IM227\n",
      "    ├── IM228\n",
      "    ├── IM229\n",
      "    ├── IM23\n",
      "    ├── IM230\n",
      "    ├── IM231\n",
      "    ├── IM232\n",
      "    ├── IM233\n",
      "    ├── IM234\n",
      "    ├── IM235\n",
      "    ├── IM236\n",
      "    ├── IM237\n",
      "    ├── IM238\n",
      "    ├── IM239\n",
      "    ├── IM24\n",
      "    ├── IM240\n",
      "    ├── IM241\n",
      "    ├── IM242\n",
      "    ├── IM243\n",
      "    ├── IM244\n",
      "    ├── IM245\n",
      "    ├── IM246\n",
      "    ├── IM247\n",
      "    ├── IM248\n",
      "    ├── IM249\n",
      "    ├── IM25\n",
      "    ├── IM250\n",
      "    ├── IM251\n",
      "    ├── IM252\n",
      "    ├── IM253\n",
      "    ├── IM254\n",
      "    ├── IM255\n",
      "    ├── IM26\n",
      "    ├── IM27\n",
      "    ├── IM28\n",
      "    ├── IM29\n",
      "    ├── IM3\n",
      "    ├── IM30\n",
      "    ├── IM31\n",
      "    ├── IM32\n",
      "    ├── IM33\n",
      "    ├── IM34\n",
      "    ├── IM35\n",
      "    ├── IM36\n",
      "    ├── IM37\n",
      "    ├── IM38\n",
      "    ├── IM39\n",
      "    ├── IM4\n",
      "    ├── IM40\n",
      "    ├── IM41\n",
      "    ├── IM42\n",
      "    ├── IM43\n",
      "    ├── IM44\n",
      "    ├── IM45\n",
      "    ├── IM46\n",
      "    ├── IM47\n",
      "    ├── IM48\n",
      "    ├── IM49\n",
      "    ├── IM5\n",
      "    ├── IM50\n",
      "    ├── IM51\n",
      "    ├── IM52\n",
      "    ├── IM53\n",
      "    ├── IM54\n",
      "    ├── IM55\n",
      "    ├── IM56\n",
      "    ├── IM57\n",
      "    ├── IM58\n",
      "    ├── IM59\n",
      "    ├── IM6\n",
      "    ├── IM60\n",
      "    ├── IM61\n",
      "    ├── IM62\n",
      "    ├── IM63\n",
      "    ├── IM64\n",
      "    ├── IM65\n",
      "    ├── IM66\n",
      "    ├── IM67\n",
      "    ├── IM68\n",
      "    ├── IM69\n",
      "    ├── IM7\n",
      "    ├── IM70\n",
      "    ├── IM71\n",
      "    ├── IM72\n",
      "    ├── IM73\n",
      "    ├── IM74\n",
      "    ├── IM75\n",
      "    ├── IM76\n",
      "    ├── IM77\n",
      "    ├── IM78\n",
      "    ├── IM79\n",
      "    ├── IM8\n",
      "    ├── IM80\n",
      "    ├── IM81\n",
      "    ├── IM82\n",
      "    ├── IM83\n",
      "    ├── IM84\n",
      "    ├── IM85\n",
      "    ├── IM86\n",
      "    ├── IM87\n",
      "    ├── IM88\n",
      "    ├── IM89\n",
      "    ├── IM9\n",
      "    ├── IM90\n",
      "    ├── IM91\n",
      "    ├── IM92\n",
      "    ├── IM93\n",
      "    ├── IM94\n",
      "    ├── IM95\n",
      "    ├── IM96\n",
      "    ├── IM97\n",
      "    ├── IM98\n",
      "    └── IM99\n"
     ]
    }
   ],
   "source": [
    "# DisplayTree('dicom')\n",
    "DisplayTree(dirPath='dicom',\n",
    "            stringRep=False,\n",
    "            header=True,\n",
    "            maxDepth=2,\n",
    "            showHidden=False,\n",
    "            sortBy=2, # 0 - Default, 1 - Files First, 2 - Directories First\n",
    "            )"
   ]
  },
  {
   "cell_type": "markdown",
   "id": "842ef162",
   "metadata": {
    "id": "YqrMAZxIU9oO"
   },
   "source": [
    "These are some multi-echo gradient-echo data from GE, and some multi-echo spin-echo data from Philips.\n",
    "You can browse these files inside the dicom directory from the file explorer. You will notice that the GE data comprise multiple DICOM files, whereas Philips data are contained in a single, large file."
   ]
  },
  {
   "cell_type": "markdown",
   "id": "38833f07",
   "metadata": {
    "id": "a62ba6e4-7f01-48d5-ae7d-304c353ba1d8"
   },
   "source": [
    "You are now ready to start using the ormir-mids package to standardise your data according to BIDS!\n",
    "\n",
    "---"
   ]
  },
  {
   "cell_type": "markdown",
   "id": "b96f9f83",
   "metadata": {},
   "source": [
    "## Usage examples\n",
    "\n",
    "We will now demonstrate the usage of `ormir-mids` via two use cases: \n",
    "    \n",
    "1. Running `dcm2mbids` as an executable to convert DICOM data to the BIDS format.\n",
    "2. Importing `ormir-mids` as a Python module to find, load, and interrogate BIDS-format data.\n",
    "    \n"
   ]
  },
  {
   "cell_type": "markdown",
   "id": "a10487e7",
   "metadata": {
    "id": "a0d240f4-7c7b-4d7a-9a74-1da33bad460e"
   },
   "source": [
    "### 1. Usage: Run as executable\n",
    "\n",
    "The Python package is set up in such a way that, after installing, you can use the code in your own code, and directly from the command line as well.\n",
    "\n",
    "The commandline script is called `dcm2mbids.exe` and is by default stored in the same folder of your Python executable (and should be added to your system's PATH variable). \n",
    "\n",
    "Let's look at how we can call it.\n"
   ]
  },
  {
   "cell_type": "code",
   "execution_count": 18,
   "id": "2129d9ef",
   "metadata": {
    "id": "gHqAE5QWVvLT"
   },
   "outputs": [
    {
     "name": "stdout",
     "output_type": "stream",
     "text": [
      "usage: dcm2mbids [-h] [--anonymize [pseudo_name]] [--recursive]\n",
      "                 input_folder output_folder\n",
      "\n",
      "Convert DICOM to BIDS format\n",
      "\n",
      "positional arguments:\n",
      "  input_folder          Input folder\n",
      "  output_folder         Output folder\n",
      "\n",
      "optional arguments:\n",
      "  -h, --help            show this help message and exit\n",
      "  --anonymize [pseudo_name], -a [pseudo_name]\n",
      "                        Use the pseudo_name (default: anon) as patient name\n",
      "  --recursive, -r       Recurse into subfolders\n"
     ]
    }
   ],
   "source": [
    "!dcm2mbids -h"
   ]
  },
  {
   "cell_type": "markdown",
   "id": "e2cc34cd",
   "metadata": {
    "id": "KnEPprTsV1MU"
   },
   "source": [
    "In principle, the program should be able to automatically figure out what the data are. Let's see what happens when we run `dcm2bids` recursively in our root folder:"
   ]
  },
  {
   "cell_type": "code",
   "execution_count": 19,
   "id": "bc4335d7",
   "metadata": {
    "id": "ZdXE9SGrWR5s"
   },
   "outputs": [
    {
     "name": "stdout",
     "output_type": "stream",
     "text": [
      "----------------------------------------------- FFFFFFFFFFFFF --------------------------------\n",
      "210\n",
      "dicom/GE_MEGRE_B0\n",
      "----------------------------------------------- FFFFFFFFFFFFF --------------------------------\n",
      "256\n",
      "Volume compatible with MESE_Philips_Magnitude\n",
      "Warning: unknown tag PhaseEncodingDirection\n",
      "Volume saved\n",
      "Volume compatible with MESE_Philips_Phase\n",
      "Warning: unknown tag PhaseEncodingDirection\n",
      "Volume saved\n",
      "Volume compatible with MESE_Philips_ReconstructedT2\n",
      "Warning: unknown tag PhaseEncodingDirection\n",
      "Volume saved\n",
      "Volume compatible with MEGRE_GE_Magnitude\n",
      "Warning: unknown tag PhaseEncodingDirection\n",
      "Volume saved\n",
      "Volume compatible with MEGRE_GE_Phase\n",
      "Warning: unknown tag PhaseEncodingDirection\n",
      "Volume saved\n",
      "Volume compatible with MEGRE_GE_Real\n",
      "Warning: unknown tag PhaseEncodingDirection\n",
      "Volume saved\n",
      "Volume compatible with MEGRE_GE_Imaginary\n",
      "Warning: unknown tag PhaseEncodingDirection\n",
      "Volume saved\n"
     ]
    }
   ],
   "source": [
    "# dcm2mbids -anonymize <pseudo_name> -recursive <input_dir> <output_dir>\n",
    "!dcm2mbids -a mypatient -r dicom bids_output"
   ]
  },
  {
   "cell_type": "markdown",
   "id": "5804144e",
   "metadata": {
    "id": "6gHt7vJnZELE"
   },
   "source": [
    "The output data are saved to a new directory called `bids_output`. Let's see what's inside:"
   ]
  },
  {
   "cell_type": "code",
   "execution_count": 21,
   "id": "3299d8c4",
   "metadata": {
    "id": "LQQC6mlmZLX0"
   },
   "outputs": [
    {
     "name": "stdout",
     "output_type": "stream",
     "text": [
      "\n",
      "$ Operating System : Linux\n",
      "$ Path : bids_output\n",
      "\n",
      "*************** Directory Tree ***************\n",
      "\n",
      "bids_output/\n",
      "├── mr-anat/\n",
      "│   ├── mypatient_megre.json\n",
      "│   ├── mypatient_megre.nii.gz\n",
      "│   ├── mypatient_megre_extra.json\n",
      "│   ├── mypatient_megre_imag.json\n",
      "│   ├── mypatient_megre_imag.nii.gz\n",
      "│   ├── mypatient_megre_imag_extra.json\n",
      "│   ├── mypatient_megre_imag_patient.json\n",
      "│   ├── mypatient_megre_patient.json\n",
      "│   ├── mypatient_megre_ph.json\n",
      "│   ├── mypatient_megre_ph.nii.gz\n",
      "│   ├── mypatient_megre_ph_extra.json\n",
      "│   ├── mypatient_megre_ph_patient.json\n",
      "│   ├── mypatient_megre_real.json\n",
      "│   ├── mypatient_megre_real.nii.gz\n",
      "│   ├── mypatient_megre_real_extra.json\n",
      "│   ├── mypatient_megre_real_patient.json\n",
      "│   ├── mypatient_mese.json\n",
      "│   ├── mypatient_mese.nii.gz\n",
      "│   ├── mypatient_mese_extra.json\n",
      "│   ├── mypatient_mese_patient.json\n",
      "│   ├── mypatient_mese_ph.json\n",
      "│   ├── mypatient_mese_ph.nii.gz\n",
      "│   ├── mypatient_mese_ph_extra.json\n",
      "│   └── mypatient_mese_ph_patient.json\n",
      "└── mr-quant/\n",
      "    ├── mypatient_t2.json\n",
      "    ├── mypatient_t2.nii.gz\n",
      "    ├── mypatient_t2_extra.json\n",
      "    └── mypatient_t2_patient.json\n"
     ]
    }
   ],
   "source": [
    "DisplayTree(dirPath='bids_output',\n",
    "            stringRep=False,\n",
    "            header=True,\n",
    "            maxDepth=2,\n",
    "            showHidden=False,\n",
    "            sortBy=2, # 0 - Default, 1 - Files First, 2 - Directories First\n",
    "            )"
   ]
  },
  {
   "cell_type": "markdown",
   "id": "f89a4a47",
   "metadata": {
    "id": "jqxPHtZCZPSt"
   },
   "source": [
    "You can see that the converted data are sorted under `anat` for anatomical images and `quant` for quantitative maps. All the maps and MESE images were previously condensed in a single Enhanced DICOM file by the Philips scanner.\n",
    "\n",
    "Every dataset has a nii.gz file containing the image data, and a set of json files containing the headers. Specifically:\n",
    "\n",
    "\n",
    "*   The simple `.json` file contains useful information about the data\n",
    "*   The `_patient.json` file contains private patient data. Delete this file if you want to anonymise your data!\n",
    "*   The `_extra.json` file contains extra information that can be used to reconstruct the DICOM dataset from the BIDS data, so it can be stored again in PACS.\n",
    "\n"
   ]
  },
  {
   "cell_type": "markdown",
   "id": "49461c28",
   "metadata": {
    "id": "44de8d8e-c130-4dd0-910e-ac834d01f327"
   },
   "source": [
    "  ### 2. Usage: Import as python module\n",
    "\n",
    "The ormir-mids package can also be used as an imported module within your Python scripts. Ideally, when you program an image processing tool, you will want to use this particular BIDS format for both input and output. You just need to point your Python script to the root folder of your patient information.\n",
    "\n",
    "First, let's __import__ the required modules:"
   ]
  },
  {
   "cell_type": "code",
   "execution_count": 27,
   "id": "8a0ad812",
   "metadata": {},
   "outputs": [],
   "source": [
    "from ormir_mids.utils.io import find_bids, load_bids\n",
    "import nibabel as nib"
   ]
  },
  {
   "cell_type": "markdown",
   "id": "379f29ca",
   "metadata": {},
   "source": [
    "Now, let's - very simply - load some multi-echo spin-echo (MESE) data.\n",
    "\n",
    "Let's see if we can __find__ the MESE MIDS data first: "
   ]
  },
  {
   "cell_type": "code",
   "execution_count": 28,
   "id": "ca31a5ab",
   "metadata": {
    "id": "490781a9-6a14-4251-af89-90cff102cbc8"
   },
   "outputs": [
    {
     "name": "stdout",
     "output_type": "stream",
     "text": [
      "['bids_output/mr-anat/mypatient_mese.nii.gz']\n"
     ]
    }
   ],
   "source": [
    "BIDS_FOLDER = 'bids_output'\n",
    "\n",
    "mese_data_list = find_bids(BIDS_FOLDER, 'mese')\n",
    "\n",
    "print(mese_data_list)"
   ]
  },
  {
   "cell_type": "markdown",
   "id": "17a8f3c7",
   "metadata": {
    "id": "d23b4d23-3ba6-4c79-ae5c-c7e7853088b1"
   },
   "source": [
    "Good news! There's at least one MIDS dataset with MESE data! Let's __load__ those data:"
   ]
  },
  {
   "cell_type": "code",
   "execution_count": 31,
   "id": "4e57b087",
   "metadata": {
    "id": "3d43cfc8-6667-4ab5-a147-db1578bc0e1f"
   },
   "outputs": [
    {
     "data": {
      "text/plain": [
       "<OrthoSlicer3D: (176, 176, 6, 17)>"
      ]
     },
     "execution_count": 31,
     "metadata": {},
     "output_type": "execute_result"
    },
    {
     "data": {
      "image/png": "[encoded data removed]",
      "text/plain": [
       "<Figure size 800x800 with 4 Axes>"
      ]
     },
     "metadata": {},
     "output_type": "display_data"
    }
   ],
   "source": [
    "bids_mese = load_bids(mese_data_list[0])\n",
    "nib.viewers.OrthoSlicer3D(bids_mese)"
   ]
  },
  {
   "cell_type": "markdown",
   "id": "7e297122",
   "metadata": {
    "id": "d315d30c-071a-474d-93ec-354c838371aa"
   },
   "source": [
    "The BIDS file also has three dictionaries associated with it:\n",
    "\n",
    "*   `bids_header`: containing relevant information\n",
    "*   `patient_header`: containing privacy-relevant information (missing if anonymized)\n",
    "*   `extra_header`: a dump of the other DICOM tags\n",
    "\n",
    "Let's have a look, for example, at the MIDS header.\n"
   ]
  },
  {
   "cell_type": "code",
   "execution_count": 32,
   "id": "9e3746c0",
   "metadata": {
    "id": "y2rHNaPDdNPV"
   },
   "outputs": [
    {
     "data": {
      "text/plain": [
       "{'EchoTime': [8.0,\n",
       "  16.0,\n",
       "  24.0,\n",
       "  32.0,\n",
       "  40.0,\n",
       "  48.0,\n",
       "  56.0,\n",
       "  64.0,\n",
       "  72.0,\n",
       "  80.0,\n",
       "  88.0,\n",
       "  96.0,\n",
       "  104.0,\n",
       "  112.0,\n",
       "  120.0,\n",
       "  128.0,\n",
       "  136.0],\n",
       " 'FlipAngle': 90.0,\n",
       " 'ScanningSequence': 'SE',\n",
       " 'SequenceVariant': 'SK',\n",
       " 'ScanOptions': 'OTHER',\n",
       " 'MRAcquisitionType': '2D',\n",
       " 'MTState': 'NONE',\n",
       " 'PartialFourier': 'NO',\n",
       " 'InversionTime': 0.0,\n",
       " 'PixelBandwidth': 217.556838989257,\n",
       " 'Manufacturer': 'Philips Medical Systems',\n",
       " 'ImagingFrequency': 127.77088,\n",
       " 'MagneticFieldStrength': 3.0,\n",
       " 'PhaseEncodingDirection': 'i',\n",
       " 'PulseSequenceType': 'Multi-echo Spin Echo',\n",
       " 'FourthDimension': 'EchoTime',\n",
       " 'RefocusingFlipAngle': 180.0}"
      ]
     },
     "execution_count": 32,
     "metadata": {},
     "output_type": "execute_result"
    }
   ],
   "source": [
    "bids_mese.bids_header"
   ]
  },
  {
   "cell_type": "markdown",
   "id": "2e20185e",
   "metadata": {
    "id": "sc4IXXzkdXf2"
   },
   "source": [
    "You can now use the MIDS header information in tandem with your data (accessible from `bids_mese.volume`) to do any further processing, and you can later save the processed output in MIDS format, or as DICOM files."
   ]
  },
  {
   "cell_type": "code",
   "execution_count": 34,
   "id": "adc3c213",
   "metadata": {},
   "outputs": [],
   "source": [
    "import ormir_mids  # Import full package to avoid garbled watermark output"
   ]
  },
  {
   "cell_type": "code",
   "execution_count": 35,
   "id": "d1f4b35c",
   "metadata": {},
   "outputs": [
    {
     "name": "stdout",
     "output_type": "stream",
     "text": [
      "Last updated: 2024-10-15T09:55:57.725618+02:00\n",
      "\n",
      "Python implementation: CPython\n",
      "Python version       : 3.9.20\n",
      "IPython version      : 8.18.1\n",
      "\n",
      "Compiler    : GCC 13.3.0\n",
      "OS          : Linux\n",
      "Release     : 6.8.0-45-generic\n",
      "Machine     : x86_64\n",
      "Processor   : x86_64\n",
      "CPU cores   : 16\n",
      "Architecture: 64bit\n",
      "\n",
      "directory_tree: 1.0.0\n",
      "nibabel       : 5.3.0\n",
      "ormir_mids    : 0.0.2\n",
      "\n"
     ]
    }
   ],
   "source": [
    "%load_ext watermark\n",
    "\n",
    "%watermark\n",
    "%watermark --iversions"
   ]
  },
  {
   "cell_type": "markdown",
   "id": "246a179f",
   "metadata": {},
   "source": [
    "---\n",
    "## References\n",
    "[<sup id=\"fn1\">1</sup>](#fn1-back) Gorgolewski, K., Auer, T., Calhoun, V. et al. The brain imaging data structure, a format for organizing and describing outputs of neuroimaging experiments. Sci Data 3, 160044 (2016). https://doi.org/10.1038/sdata.2016.44"
   ]
  },
  {
   "cell_type": "markdown",
   "id": "74a046ff",
   "metadata": {},
   "source": [
    "---\n",
    "## Acknowledgements\n",
    "This package was developed with the support of the ORMIR community during the Jupyter Community Workshop and hackathon in Maastricht, The Netherlands, in June 2022.  \n",
    "\n",
    "Image I/O is based on [DOSMA](https://github.com/ad12/DOSMA) by Arjun Desai. A stripped-down version of DOSMA is present in ormir-mids/dosma_io.  \n",
    "\n",
    "Notebook created using the [ORMIR community](https://ormircommunity.github.io/) template (version 1.0, 2023)."
   ]
  }
 ],
 "metadata": {
  "colab": {
   "name": "Muscle-bids_dcm2mbids.ipynb",
   "provenance": []
  },
  "kernelspec": {
   "display_name": "ormir-mids",
   "language": "python",
   "name": "python3"
  },
  "language_info": {
   "codemirror_mode": {
    "name": "ipython",
    "version": 3
   },
   "file_extension": ".py",
   "mimetype": "text/x-python",
   "name": "python",
   "nbconvert_exporter": "python",
   "pygments_lexer": "ipython3",
   "version": "3.9.20"
  }
 },
 "nbformat": 4,
 "nbformat_minor": 5
}
